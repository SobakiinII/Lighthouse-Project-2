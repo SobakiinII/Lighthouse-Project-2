{
 "cells": [
  {
   "cell_type": "markdown",
   "metadata": {},
   "source": [
    "Build a regression model."
   ]
  },
  {
   "cell_type": "code",
   "execution_count": 1,
   "metadata": {},
   "outputs": [],
   "source": [
    "import pandas as pd\n",
    "\n",
    "bike_dataframe=pd.read_csv('bike_dataframe.csv')\n",
    "yelp_dataframe=pd.read_csv('YelpDataframe.csv')\n",
    "#import the data"
   ]
  },
  {
   "cell_type": "code",
   "execution_count": 7,
   "metadata": {},
   "outputs": [],
   "source": [
    "import statsmodels.api as sm"
   ]
  },
  {
   "cell_type": "code",
   "execution_count": 11,
   "metadata": {},
   "outputs": [
    {
     "data": {
      "text/html": [
       "<div>\n",
       "<style scoped>\n",
       "    .dataframe tbody tr th:only-of-type {\n",
       "        vertical-align: middle;\n",
       "    }\n",
       "\n",
       "    .dataframe tbody tr th {\n",
       "        vertical-align: top;\n",
       "    }\n",
       "\n",
       "    .dataframe thead th {\n",
       "        text-align: right;\n",
       "    }\n",
       "</style>\n",
       "<table border=\"1\" class=\"dataframe\">\n",
       "  <thead>\n",
       "    <tr style=\"text-align: right;\">\n",
       "      <th></th>\n",
       "      <th>const</th>\n",
       "      <th>id</th>\n",
       "      <th>latittude</th>\n",
       "      <th>longitude</th>\n",
       "      <th>free_bikes</th>\n",
       "    </tr>\n",
       "  </thead>\n",
       "  <tbody>\n",
       "    <tr>\n",
       "      <th>0</th>\n",
       "      <td>1.0</td>\n",
       "      <td>2399b74c7c07d3a02e5e2a3e90460b7c</td>\n",
       "      <td>45.511950</td>\n",
       "      <td>-122.614160</td>\n",
       "      <td>0</td>\n",
       "    </tr>\n",
       "    <tr>\n",
       "      <th>1</th>\n",
       "      <td>1.0</td>\n",
       "      <td>e9aef274a3bf9dd43ff7e7f7352b250c</td>\n",
       "      <td>45.548276</td>\n",
       "      <td>-122.611164</td>\n",
       "      <td>0</td>\n",
       "    </tr>\n",
       "    <tr>\n",
       "      <th>2</th>\n",
       "      <td>1.0</td>\n",
       "      <td>5037e02fd534d0164d7d2d8bcfcaa20c</td>\n",
       "      <td>45.553917</td>\n",
       "      <td>-122.602071</td>\n",
       "      <td>2</td>\n",
       "    </tr>\n",
       "    <tr>\n",
       "      <th>3</th>\n",
       "      <td>1.0</td>\n",
       "      <td>97d7a7aeaf214cfedcf658e21189652b</td>\n",
       "      <td>45.516585</td>\n",
       "      <td>-122.616038</td>\n",
       "      <td>0</td>\n",
       "    </tr>\n",
       "    <tr>\n",
       "      <th>4</th>\n",
       "      <td>1.0</td>\n",
       "      <td>ff54bba5b85cda833a23610dfc64fddc</td>\n",
       "      <td>45.493337</td>\n",
       "      <td>-122.623397</td>\n",
       "      <td>1</td>\n",
       "    </tr>\n",
       "    <tr>\n",
       "      <th>...</th>\n",
       "      <td>...</td>\n",
       "      <td>...</td>\n",
       "      <td>...</td>\n",
       "      <td>...</td>\n",
       "      <td>...</td>\n",
       "    </tr>\n",
       "    <tr>\n",
       "      <th>233</th>\n",
       "      <td>1.0</td>\n",
       "      <td>71d1631fc898a831f4244409608e9493</td>\n",
       "      <td>45.517899</td>\n",
       "      <td>-122.660052</td>\n",
       "      <td>8</td>\n",
       "    </tr>\n",
       "    <tr>\n",
       "      <th>234</th>\n",
       "      <td>1.0</td>\n",
       "      <td>87e039f7e0de4fb684c6405bc9b14f5f</td>\n",
       "      <td>45.518103</td>\n",
       "      <td>-122.657650</td>\n",
       "      <td>8</td>\n",
       "    </tr>\n",
       "    <tr>\n",
       "      <th>235</th>\n",
       "      <td>1.0</td>\n",
       "      <td>013f3d702a2aa7c3898a54be63c5a021</td>\n",
       "      <td>45.498947</td>\n",
       "      <td>-122.637669</td>\n",
       "      <td>1</td>\n",
       "    </tr>\n",
       "    <tr>\n",
       "      <th>236</th>\n",
       "      <td>1.0</td>\n",
       "      <td>544d22c8674963f49f89c45c532adc67</td>\n",
       "      <td>45.552358</td>\n",
       "      <td>-122.625588</td>\n",
       "      <td>1</td>\n",
       "    </tr>\n",
       "    <tr>\n",
       "      <th>237</th>\n",
       "      <td>1.0</td>\n",
       "      <td>5f03104460d47f692ffcdde3b8ed1ac4</td>\n",
       "      <td>45.570366</td>\n",
       "      <td>-122.636043</td>\n",
       "      <td>5</td>\n",
       "    </tr>\n",
       "  </tbody>\n",
       "</table>\n",
       "<p>238 rows × 5 columns</p>\n",
       "</div>"
      ],
      "text/plain": [
       "     const                                id  latittude   longitude  \\\n",
       "0      1.0  2399b74c7c07d3a02e5e2a3e90460b7c  45.511950 -122.614160   \n",
       "1      1.0  e9aef274a3bf9dd43ff7e7f7352b250c  45.548276 -122.611164   \n",
       "2      1.0  5037e02fd534d0164d7d2d8bcfcaa20c  45.553917 -122.602071   \n",
       "3      1.0  97d7a7aeaf214cfedcf658e21189652b  45.516585 -122.616038   \n",
       "4      1.0  ff54bba5b85cda833a23610dfc64fddc  45.493337 -122.623397   \n",
       "..     ...                               ...        ...         ...   \n",
       "233    1.0  71d1631fc898a831f4244409608e9493  45.517899 -122.660052   \n",
       "234    1.0  87e039f7e0de4fb684c6405bc9b14f5f  45.518103 -122.657650   \n",
       "235    1.0  013f3d702a2aa7c3898a54be63c5a021  45.498947 -122.637669   \n",
       "236    1.0  544d22c8674963f49f89c45c532adc67  45.552358 -122.625588   \n",
       "237    1.0  5f03104460d47f692ffcdde3b8ed1ac4  45.570366 -122.636043   \n",
       "\n",
       "     free_bikes  \n",
       "0             0  \n",
       "1             0  \n",
       "2             2  \n",
       "3             0  \n",
       "4             1  \n",
       "..          ...  \n",
       "233           8  \n",
       "234           8  \n",
       "235           1  \n",
       "236           1  \n",
       "237           5  \n",
       "\n",
       "[238 rows x 5 columns]"
      ]
     },
     "execution_count": 11,
     "metadata": {},
     "output_type": "execute_result"
    }
   ],
   "source": [
    "bike_dataframe"
   ]
  },
  {
   "cell_type": "code",
   "execution_count": 14,
   "metadata": {},
   "outputs": [
    {
     "data": {
      "text/html": [
       "<div>\n",
       "<style scoped>\n",
       "    .dataframe tbody tr th:only-of-type {\n",
       "        vertical-align: middle;\n",
       "    }\n",
       "\n",
       "    .dataframe tbody tr th {\n",
       "        vertical-align: top;\n",
       "    }\n",
       "\n",
       "    .dataframe thead th {\n",
       "        text-align: right;\n",
       "    }\n",
       "</style>\n",
       "<table border=\"1\" class=\"dataframe\">\n",
       "  <thead>\n",
       "    <tr style=\"text-align: right;\">\n",
       "      <th></th>\n",
       "      <th>id</th>\n",
       "      <th>free_bikes</th>\n",
       "      <th>avg_distance</th>\n",
       "      <th>avg_review</th>\n",
       "    </tr>\n",
       "  </thead>\n",
       "  <tbody>\n",
       "    <tr>\n",
       "      <th>0</th>\n",
       "      <td>4340a320c7fb47f4a93d068ef607ed29</td>\n",
       "      <td>1</td>\n",
       "      <td>161.231144</td>\n",
       "      <td>326.30</td>\n",
       "    </tr>\n",
       "    <tr>\n",
       "      <th>1</th>\n",
       "      <td>e1ab0ce5d24a113323ec3595bdc83a17</td>\n",
       "      <td>0</td>\n",
       "      <td>179.083139</td>\n",
       "      <td>931.75</td>\n",
       "    </tr>\n",
       "    <tr>\n",
       "      <th>2</th>\n",
       "      <td>1c79a810e685de99e6f93606040bbebf</td>\n",
       "      <td>5</td>\n",
       "      <td>213.823918</td>\n",
       "      <td>643.05</td>\n",
       "    </tr>\n",
       "    <tr>\n",
       "      <th>3</th>\n",
       "      <td>f50b7bd1c728c9f763dd6bf64654077b</td>\n",
       "      <td>21</td>\n",
       "      <td>215.484219</td>\n",
       "      <td>310.25</td>\n",
       "    </tr>\n",
       "    <tr>\n",
       "      <th>4</th>\n",
       "      <td>937122f1db9dba7e6c4f9caededb959b</td>\n",
       "      <td>3</td>\n",
       "      <td>218.395174</td>\n",
       "      <td>799.80</td>\n",
       "    </tr>\n",
       "  </tbody>\n",
       "</table>\n",
       "</div>"
      ],
      "text/plain": [
       "                                 id  free_bikes  avg_distance  avg_review\n",
       "0  4340a320c7fb47f4a93d068ef607ed29           1    161.231144      326.30\n",
       "1  e1ab0ce5d24a113323ec3595bdc83a17           0    179.083139      931.75\n",
       "2  1c79a810e685de99e6f93606040bbebf           5    213.823918      643.05\n",
       "3  f50b7bd1c728c9f763dd6bf64654077b          21    215.484219      310.25\n",
       "4  937122f1db9dba7e6c4f9caededb959b           3    218.395174      799.80"
      ]
     },
     "execution_count": 14,
     "metadata": {},
     "output_type": "execute_result"
    }
   ],
   "source": [
    "join_df = bike_dataframe.merge(yelp_dataframe, on='id', how='inner')\n",
    "plot_data=join_df.groupby(['id','free_bikes']).agg({'distance':'mean', 'reviews':'mean'}).rename(columns={'distance':'avg_distance','reviews':'avg_review'}).sort_values(by = 'avg_distance').reset_index()\n",
    "plot_data.head()"
   ]
  },
  {
   "cell_type": "code",
   "execution_count": 15,
   "metadata": {},
   "outputs": [],
   "source": [
    "# bike_dataframe= sm.add_constant(bike_dataframe)\n",
    "\n",
    "lin_reg = sm.OLS(plot_data['avg_review'],plot_data['free_bikes'])"
   ]
  },
  {
   "cell_type": "markdown",
   "metadata": {},
   "source": [
    "Provide model output and an interpretation of the results. "
   ]
  },
  {
   "cell_type": "code",
   "execution_count": 17,
   "metadata": {},
   "outputs": [
    {
     "name": "stdout",
     "output_type": "stream",
     "text": [
      "                                 OLS Regression Results                                \n",
      "=======================================================================================\n",
      "Dep. Variable:             avg_review   R-squared (uncentered):                   0.255\n",
      "Model:                            OLS   Adj. R-squared (uncentered):              0.248\n",
      "Method:                 Least Squares   F-statistic:                              33.95\n",
      "Date:                Wed, 13 Dec 2023   Prob (F-statistic):                    7.05e-08\n",
      "Time:                        10:22:49   Log-Likelihood:                         -790.23\n",
      "No. Observations:                 100   AIC:                                      1582.\n",
      "Df Residuals:                      99   BIC:                                      1585.\n",
      "Df Model:                           1                                                  \n",
      "Covariance Type:            nonrobust                                                  \n",
      "==============================================================================\n",
      "                 coef    std err          t      P>|t|      [0.025      0.975]\n",
      "------------------------------------------------------------------------------\n",
      "free_bikes    68.8757     11.820      5.827      0.000      45.422      92.329\n",
      "==============================================================================\n",
      "Omnibus:                       17.058   Durbin-Watson:                   1.142\n",
      "Prob(Omnibus):                  0.000   Jarque-Bera (JB):               22.833\n",
      "Skew:                          -0.836   Prob(JB):                     1.10e-05\n",
      "Kurtosis:                       4.639   Cond. No.                         1.00\n",
      "==============================================================================\n",
      "\n",
      "Notes:\n",
      "[1] R² is computed without centering (uncentered) since the model does not contain a constant.\n",
      "[2] Standard Errors assume that the covariance matrix of the errors is correctly specified.\n"
     ]
    }
   ],
   "source": [
    "model = lin_reg.fit()\n",
    "print_model=model.summary()\n",
    "print(print_model)"
   ]
  },
  {
   "cell_type": "markdown",
   "metadata": {},
   "source": [
    "The low R-squared means it isn't wise to draw strong conclusions. However, the low P-value and positive coefficient does suggest that there is a relationship between the number of bikes at a point and the average number of reviews a restaurant has."
   ]
  },
  {
   "cell_type": "markdown",
   "metadata": {},
   "source": [
    "# Stretch"
   ]
  },
  {
   "cell_type": "markdown",
   "metadata": {},
   "source": [
    "How can you turn the regression model into a classification model?"
   ]
  },
  {
   "cell_type": "code",
   "execution_count": null,
   "metadata": {},
   "outputs": [],
   "source": []
  }
 ],
 "metadata": {
  "kernelspec": {
   "display_name": "Python 3",
   "language": "python",
   "name": "python3"
  },
  "language_info": {
   "codemirror_mode": {
    "name": "ipython",
    "version": 3
   },
   "file_extension": ".py",
   "mimetype": "text/x-python",
   "name": "python",
   "nbconvert_exporter": "python",
   "pygments_lexer": "ipython3",
   "version": "3.11.5"
  }
 },
 "nbformat": 4,
 "nbformat_minor": 4
}
